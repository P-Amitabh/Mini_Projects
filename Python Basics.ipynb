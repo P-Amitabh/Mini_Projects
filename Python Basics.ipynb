{
 "cells": [
  {
   "cell_type": "markdown",
   "id": "5a50e6c1",
   "metadata": {},
   "source": [
    "### - Python for data science"
   ]
  },
  {
   "cell_type": "code",
   "execution_count": 66,
   "id": "3cd836d2",
   "metadata": {},
   "outputs": [
    {
     "name": "stdout",
     "output_type": "stream",
     "text": [
      "Hello World\n"
     ]
    }
   ],
   "source": [
    "print('Hello World')"
   ]
  },
  {
   "cell_type": "code",
   "execution_count": 71,
   "id": "85abbce3",
   "metadata": {
    "scrolled": true
   },
   "outputs": [
    {
     "name": "stdout",
     "output_type": "stream",
     "text": [
      "Help on built-in function print in module builtins:\n",
      "\n",
      "print(...)\n",
      "    print(value, ..., sep=' ', end='\\n', file=sys.stdout, flush=False)\n",
      "    \n",
      "    Prints the values to a stream, or to sys.stdout by default.\n",
      "    Optional keyword arguments:\n",
      "    file:  a file-like object (stream); defaults to the current sys.stdout.\n",
      "    sep:   string inserted between values, default a space.\n",
      "    end:   string appended after the last value, default a newline.\n",
      "    flush: whether to forcibly flush the stream.\n",
      "\n"
     ]
    }
   ],
   "source": [
    "help(print) #Use help() to open up the help option"
   ]
  },
  {
   "cell_type": "markdown",
   "id": "7dde3472",
   "metadata": {},
   "source": [
    "### - Variables"
   ]
  },
  {
   "cell_type": "code",
   "execution_count": null,
   "id": "e4696a1c",
   "metadata": {},
   "outputs": [],
   "source": [
    "#Defining a variable\n",
    "\n",
    "space_name = \"Rocket_Man\""
   ]
  },
  {
   "cell_type": "code",
   "execution_count": null,
   "id": "e896f8af",
   "metadata": {},
   "outputs": [],
   "source": [
    "print(space_name)"
   ]
  },
  {
   "cell_type": "code",
   "execution_count": null,
   "id": "877f367f",
   "metadata": {},
   "outputs": [],
   "source": [
    "#Checking the type of variable\n",
    "\n",
    "type(space_name)"
   ]
  },
  {
   "cell_type": "markdown",
   "id": "b5e58b63",
   "metadata": {},
   "source": [
    "### - Datatypes"
   ]
  },
  {
   "cell_type": "code",
   "execution_count": null,
   "id": "8ba892d8",
   "metadata": {},
   "outputs": [],
   "source": [
    "#Declaring a variable as a string\n",
    "\n",
    "string_variable = \"pluto\"\n",
    "\n",
    "print(string_variable)\n",
    "\n",
    "type(string_variable)"
   ]
  },
  {
   "cell_type": "code",
   "execution_count": null,
   "id": "e189c00d",
   "metadata": {},
   "outputs": [],
   "source": [
    "#Declaring an integer variable\n",
    "\n",
    "integer_variable = 789\n",
    "\n",
    "print(integer_variable)\n",
    "\n",
    "type(integer_variable)"
   ]
  },
  {
   "cell_type": "code",
   "execution_count": null,
   "id": "1e599504",
   "metadata": {},
   "outputs": [],
   "source": [
    "#Declaring an float variable\n",
    "\n",
    "float_variable = 12.34\n",
    "\n",
    "print(float_variable)\n",
    "\n",
    "type(float_variable)"
   ]
  },
  {
   "cell_type": "code",
   "execution_count": null,
   "id": "08bcadff",
   "metadata": {},
   "outputs": [],
   "source": [
    "#Assigning a Boolean variable\n",
    "#Can be True or False or 1 or 0\n",
    "\n",
    "bool_variable = True\n",
    "\n",
    "type(bool_variable)"
   ]
  },
  {
   "cell_type": "code",
   "execution_count": null,
   "id": "c2314cbc",
   "metadata": {},
   "outputs": [],
   "source": [
    "#Creating a list\n",
    "#These are mutable (can be updated)\n",
    "\n",
    "list_variable = [1,2,3,\"These are integers\", 1.2]\n",
    "\n",
    "type(list_variable)\n",
    "\n",
    "print(list_variable)"
   ]
  },
  {
   "cell_type": "code",
   "execution_count": null,
   "id": "4dc5689d",
   "metadata": {},
   "outputs": [],
   "source": [
    "#Creating a tuple\n",
    "#These are immutable (cannot be updated)\n",
    "\n",
    "tuple_variable = (1,2,4,7.8,9.6,10.3,6)\n",
    "\n",
    "type(tuple_variable)\n",
    "\n",
    "print(tuple_variable)"
   ]
  },
  {
   "cell_type": "code",
   "execution_count": null,
   "id": "27194b08",
   "metadata": {},
   "outputs": [],
   "source": [
    "#Creating a set\n",
    "#These are immutable (cannot be updated)\n",
    "#These are ordered\n",
    "#Do not allow duplicate values\n",
    "\n",
    "set_variable = {1,2,4,7.8,9.6,10.3,6,2,4}\n",
    "\n",
    "type(set_variable)\n",
    "\n",
    "print(set_variable)"
   ]
  },
  {
   "cell_type": "code",
   "execution_count": null,
   "id": "52607230",
   "metadata": {},
   "outputs": [],
   "source": [
    "#Creating a dictionary\n",
    "#Made up of key:value pairs\n",
    "\n",
    "dict_variable = {'name':'Pratham', 'fav_color':'red', 'fav_number':7}\n",
    "\n",
    "type(dict_variable)\n",
    "\n",
    "print(dict_variable)"
   ]
  },
  {
   "cell_type": "markdown",
   "id": "87cd15cf",
   "metadata": {},
   "source": [
    "### - Lists"
   ]
  },
  {
   "cell_type": "code",
   "execution_count": null,
   "id": "576830ce",
   "metadata": {},
   "outputs": [],
   "source": [
    "#Create a list\n",
    "\n",
    "names = ['Neil','Buzz','Sally','Yuri','Kalpana','Elon','Jeff']"
   ]
  },
  {
   "cell_type": "code",
   "execution_count": null,
   "id": "7352818a",
   "metadata": {},
   "outputs": [],
   "source": [
    "#Read the list using indexing\n",
    "\n",
    "print(names[2])\n",
    "print(names[-1])\n",
    "\n",
    "#Finding the length of the list\n",
    "len(names)"
   ]
  },
  {
   "cell_type": "code",
   "execution_count": null,
   "id": "5a2e8e3f",
   "metadata": {},
   "outputs": [],
   "source": [
    "#Update a value in the list\n",
    "\n",
    "names[-1] = 'Amazonian'\n",
    "print(names[-1])"
   ]
  },
  {
   "cell_type": "code",
   "execution_count": null,
   "id": "f290a636",
   "metadata": {},
   "outputs": [],
   "source": [
    "#Adding a value to the list\n",
    "#Using the 'append' method\n",
    "\n",
    "names.append('Pratham')\n",
    "\n",
    "print(names)"
   ]
  },
  {
   "cell_type": "code",
   "execution_count": null,
   "id": "59d2f89b",
   "metadata": {},
   "outputs": [],
   "source": [
    "#Inserting a value into the list\n",
    "\n",
    "names.insert(0, 'Richard')\n",
    "\n",
    "print(names)"
   ]
  },
  {
   "cell_type": "code",
   "execution_count": null,
   "id": "20e35036",
   "metadata": {},
   "outputs": [],
   "source": [
    "#Deleting a value from the list\n",
    "\n",
    "del names[-2]\n",
    "\n",
    "print(names)"
   ]
  },
  {
   "cell_type": "markdown",
   "id": "5382ba6c",
   "metadata": {},
   "source": [
    "### - Dictionaries"
   ]
  },
  {
   "cell_type": "code",
   "execution_count": null,
   "id": "ee37ba1b",
   "metadata": {},
   "outputs": [],
   "source": [
    "#Create a dictionary\n",
    "\n",
    "astronaut = {\n",
    "    \"name\":\"Elon\",\n",
    "    \"suit_size\":\"Large\",\n",
    "    \"allergies\":\"Peanuts\"\n",
    "}"
   ]
  },
  {
   "cell_type": "code",
   "execution_count": null,
   "id": "7df299d4",
   "metadata": {},
   "outputs": [],
   "source": [
    "#Read the dictionary\n",
    "\n",
    "astronaut['suit_size']"
   ]
  },
  {
   "cell_type": "code",
   "execution_count": null,
   "id": "c131cba2",
   "metadata": {},
   "outputs": [],
   "source": [
    "#Get all the keys as a list\n",
    "\n",
    "list(astronaut.keys())"
   ]
  },
  {
   "cell_type": "code",
   "execution_count": null,
   "id": "01c5b025",
   "metadata": {},
   "outputs": [],
   "source": [
    "#Get all the values as a list\n",
    "\n",
    "list(astronaut.values())"
   ]
  },
  {
   "cell_type": "code",
   "execution_count": null,
   "id": "4aea9b96",
   "metadata": {},
   "outputs": [],
   "source": [
    "#Update a dictionary value\n",
    "\n",
    "astronaut[\"allergies\"] = \"mango\"\n",
    "\n",
    "print(astronaut)"
   ]
  },
  {
   "cell_type": "code",
   "execution_count": null,
   "id": "74712acc",
   "metadata": {},
   "outputs": [],
   "source": [
    "#Add a new key:value pair\n",
    "\n",
    "astronaut[\"spaceship\"] = \"Galatic 1\"\n",
    "\n",
    "astronaut"
   ]
  },
  {
   "cell_type": "code",
   "execution_count": null,
   "id": "caafbcc2",
   "metadata": {},
   "outputs": [],
   "source": [
    "#Delete a dictionary value\n",
    "\n",
    "del astronaut['spaceship']\n",
    "\n",
    "astronaut"
   ]
  },
  {
   "cell_type": "markdown",
   "id": "0de60a78",
   "metadata": {},
   "source": [
    "### - Conditions and Logic"
   ]
  },
  {
   "cell_type": "code",
   "execution_count": null,
   "id": "23aa97e3",
   "metadata": {},
   "outputs": [],
   "source": [
    "#Applying logic using the 'if' statement\n",
    "\n",
    "name = \"Neil\"\n",
    "\n",
    "if name == \"Neil\":\n",
    "    print(\"Hello Neil\")"
   ]
  },
  {
   "cell_type": "code",
   "execution_count": null,
   "id": "bdfa3d52",
   "metadata": {},
   "outputs": [],
   "source": [
    "#Trying logic with a number\n",
    "\n",
    "test_num = 6\n",
    "\n",
    "if test_num >= 5:\n",
    "    print(\"Number is greater than equal to 5\")\n",
    "else:\n",
    "    print(\"Number is not greater than equal to 5\")"
   ]
  },
  {
   "cell_type": "code",
   "execution_count": null,
   "id": "c324fa4b",
   "metadata": {},
   "outputs": [],
   "source": [
    "#Trying with elif\n",
    "\n",
    "prob = 6\n",
    "\n",
    "if prob >= 0.5:\n",
    "    print(True)\n",
    "elif prob < 0.0:\n",
    "    print(\"Check this again\")\n",
    "else:\n",
    "    print(False)"
   ]
  },
  {
   "cell_type": "code",
   "execution_count": null,
   "id": "76c7e0b5",
   "metadata": {},
   "outputs": [],
   "source": [
    "#Create a list of names\n",
    "\n",
    "names = [\"Neil\",\"Yuri\",\"Buzz\",\"Elon\",\"Jeff\"]\n",
    "\n",
    "if \"Elon\" in names:\n",
    "    print(\"Elon is here\")"
   ]
  },
  {
   "cell_type": "markdown",
   "id": "b5ebbdbd",
   "metadata": {},
   "source": [
    "### - Loops"
   ]
  },
  {
   "cell_type": "code",
   "execution_count": null,
   "id": "23de63d4",
   "metadata": {},
   "outputs": [],
   "source": [
    "#For Loop with an example\n",
    "\n",
    "for name in names:\n",
    "    if name == \"Yuri\":\n",
    "        print(\"Privet Yuri\")\n",
    "    elif name == \"Elon\":\n",
    "        print(\"Hello Rocketman\")\n",
    "    else:\n",
    "        print(\"Hello\")"
   ]
  },
  {
   "cell_type": "code",
   "execution_count": null,
   "id": "09267e1a",
   "metadata": {},
   "outputs": [],
   "source": [
    "#Using 'break' statement to stop the loop\n",
    "\n",
    "for name in names:\n",
    "    print(name)\n",
    "    if name == \"Yuri\":\n",
    "        print(\"Privet Yuri\")\n",
    "    elif name == \"Elon\":\n",
    "        print(\"Hello Rocketman\")\n",
    "        break\n",
    "    else:\n",
    "        print(\"Astronaut not part of programme\")\n",
    "        \n",
    "    \n",
    "    print(\"Verification Complete...\\n\")"
   ]
  },
  {
   "cell_type": "code",
   "execution_count": null,
   "id": "5936545a",
   "metadata": {},
   "outputs": [],
   "source": [
    "#Using 'continue' statement\n",
    "\n",
    "for name in names:\n",
    "    print(name)\n",
    "    if name == \"Yuri\":\n",
    "        print(\"Privet Yuri\\n\") # \\n for a new line break\n",
    "        #Go to next value\n",
    "        continue\n",
    "        \n",
    "    elif name == \"Elon\":\n",
    "        print(\"Hello Rocketman\")\n",
    "        break\n",
    "        \n",
    "    else:\n",
    "        print(\"Astronaut not part of programme\")\n",
    "        \n",
    "        \n",
    "    print(\"Verification Complete...\\n\")"
   ]
  },
  {
   "cell_type": "code",
   "execution_count": null,
   "id": "6e678b58",
   "metadata": {},
   "outputs": [],
   "source": [
    "#Using 'pass' statement\n",
    "\n",
    "for name in names:\n",
    "    print(name)\n",
    "    if name == \"Yuri\":\n",
    "        print(\"Privet Yuri\\n\") # \\n for a new line break\n",
    "        #Go to next value\n",
    "        continue\n",
    "        \n",
    "    elif name == \"Elon\":\n",
    "        print(\"Hello Rocketman\")\n",
    "        #Stops the loop\n",
    "        break\n",
    "        \n",
    "    else:\n",
    "        #Does nothing\n",
    "        pass\n",
    "        \n",
    "    #The blow is outside of the if statement block  \n",
    "    print(\"Verification Complete...\\n\")"
   ]
  },
  {
   "cell_type": "code",
   "execution_count": null,
   "id": "c31af305",
   "metadata": {},
   "outputs": [],
   "source": [
    "#Loop x number of times\n",
    "\n",
    "for idx in range(1,11): #idx stands for index\n",
    "    print(idx)"
   ]
  },
  {
   "cell_type": "code",
   "execution_count": null,
   "id": "2ab426e9",
   "metadata": {},
   "outputs": [],
   "source": [
    "#Creating a While loop\n",
    "#Create launch variables\n",
    "\n",
    "launched_shuttles = 0\n",
    "total_shuttles = 5\n",
    "\n",
    "while True:\n",
    "    #In string formatting we use the {} brackets to indicate where the formatted value will go\n",
    "    print(\"Shuttle {} launched\".format(launched_shuttles+1))\n",
    "    launched_shuttles += 1 #Adding one to the existing value\n",
    "    \n",
    "    if launched_shuttles == total_shuttles:\n",
    "        print(\"All shuttles launched\")\n",
    "        break\n",
    "    "
   ]
  },
  {
   "cell_type": "code",
   "execution_count": null,
   "id": "49e2d39f",
   "metadata": {},
   "outputs": [],
   "source": [
    "#Looping through a dictionary\n",
    "\n",
    "astronaut = {\n",
    "    \"Name\":\"Elon\",\n",
    "    \"Suit_Size\":\"Large\",\n",
    "    \"Allergies\":\"Peanuts\"\n",
    "}\n",
    "\n",
    "#Looping through the keys\n",
    "for key in astronaut.keys():\n",
    "    print(key)\n",
    "\n",
    "#Looping through the values\n",
    "for value in astronaut.values():\n",
    "    print(value)"
   ]
  },
  {
   "cell_type": "code",
   "execution_count": null,
   "id": "23d1bfd9",
   "metadata": {},
   "outputs": [],
   "source": [
    "#Looping through keys and values together\n",
    "\n",
    "for key,value in astronaut.items(): #dict.items returns tuples\n",
    "        print(key)\n",
    "        print(value, \"\\n\") #'\\n' is used for a new line break\n",
    "        \n",
    "        "
   ]
  },
  {
   "cell_type": "code",
   "execution_count": null,
   "id": "02c29ce4",
   "metadata": {},
   "outputs": [],
   "source": [
    "#List comprehension\n",
    "\n",
    "new_list = [name.lower() for name in names]\n",
    "\n",
    "print(new_list)"
   ]
  },
  {
   "cell_type": "markdown",
   "id": "ff86ec5b",
   "metadata": {},
   "source": [
    "### - Functions"
   ]
  },
  {
   "cell_type": "code",
   "execution_count": null,
   "id": "4b278fb8",
   "metadata": {},
   "outputs": [],
   "source": [
    "#Defining a function\n",
    "\n",
    "def lauchpad_welcome():\n",
    "    print(\"Weclome Starman\")"
   ]
  },
  {
   "cell_type": "code",
   "execution_count": null,
   "id": "f3882bbf",
   "metadata": {},
   "outputs": [],
   "source": [
    "#Calling our function\n",
    "\n",
    "lauchpad_welcome()"
   ]
  },
  {
   "cell_type": "code",
   "execution_count": null,
   "id": "2afc6f07",
   "metadata": {},
   "outputs": [],
   "source": [
    "#Defining a new function\n",
    "\n",
    "#Creating a list of names\n",
    "names = [\"Neil\",\"Yuri\",\"Buzz\",\"Elon\",\"Jeff\"]\n",
    "\n",
    "def custom_welcome(name):\n",
    "    print(\"Welcome {}\".format(name))\n",
    "    \n",
    "custom_welcome(\"Elon\")"
   ]
  },
  {
   "cell_type": "code",
   "execution_count": null,
   "id": "7fb84a90",
   "metadata": {},
   "outputs": [],
   "source": [
    "#Using the custom function to loop through the list of names\n",
    "\n",
    "for name in names:\n",
    "    custom_welcome(name)\n",
    "    "
   ]
  },
  {
   "cell_type": "code",
   "execution_count": null,
   "id": "7e90c5ca",
   "metadata": {},
   "outputs": [],
   "source": [
    "#Multiple postional arguments\n",
    "\n",
    "def custom_welcome_to_ship(name, space_ship):\n",
    "    print(\"Welcome {} to the {}\".format(name, space_ship))\n",
    "    \n",
    "custom_welcome_to_ship(\"Elon\", \"Starship\")"
   ]
  },
  {
   "cell_type": "code",
   "execution_count": null,
   "id": "d39927f9",
   "metadata": {},
   "outputs": [],
   "source": [
    "#Creating a list of spaceships\n",
    "\n",
    "space_ships = ['FA-116','Nozdrov','Light Craft','Starlink','Dude Mobilé']"
   ]
  },
  {
   "cell_type": "code",
   "execution_count": null,
   "id": "62af020e",
   "metadata": {},
   "outputs": [],
   "source": [
    "#Using enumerate to loop over multiple lists\n",
    "\n",
    "for idx,name in enumerate(names): #This gives an index to work with\n",
    "    space_ship = space_ships[idx] #Using the index to assign spaceships from the list\n",
    "    custom_welcome_to_ship(name, space_ship)"
   ]
  },
  {
   "cell_type": "code",
   "execution_count": null,
   "id": "ded928d2",
   "metadata": {},
   "outputs": [],
   "source": [
    "#Kwargs or Keyword arguments\n",
    "#color=\"Blue\" becomes the Kwarg\n",
    "\n",
    "def spacesuit_col(color=\"Blue\"):\n",
    "    print(\"Your spacesuit is {}\".format(color))\n",
    "    \n",
    "spacesuit_col()"
   ]
  },
  {
   "cell_type": "code",
   "execution_count": null,
   "id": "63ea996e",
   "metadata": {},
   "outputs": [],
   "source": [
    "#Defining a new function\n",
    "#Positional arguments always go first and in order\n",
    "\n",
    "def spacesuit_welcome(name,space_ship,color=\"Blue\"):\n",
    "    print(\"Welcome {} to the {}, your spacesuit is {}\".format(name, space_ship, color))\n",
    "    \n",
    "spacesuit_welcome(\"Elon\",\"Starlink\", color=\"Red\")"
   ]
  },
  {
   "cell_type": "code",
   "execution_count": null,
   "id": "eea0e1af",
   "metadata": {},
   "outputs": [],
   "source": [
    "#Lambda function or an anonymous function\n",
    "\n",
    "pi = lambda x: x*3.14"
   ]
  },
  {
   "cell_type": "code",
   "execution_count": null,
   "id": "ecfafba2",
   "metadata": {},
   "outputs": [],
   "source": [
    "pi(2)"
   ]
  },
  {
   "cell_type": "markdown",
   "id": "22240feb",
   "metadata": {},
   "source": [
    "### - Classes"
   ]
  },
  {
   "cell_type": "code",
   "execution_count": null,
   "id": "14f0df75",
   "metadata": {},
   "outputs": [],
   "source": [
    "#Creating a class for a person\n",
    "\n",
    "class Person():\n",
    "    #The method that runs as soon as you create a class\n",
    "    def __init__(self,name,age,color): #self is used to refer to the current method\n",
    "        #Create some attributes\n",
    "        self.name = name\n",
    "        self.age = age\n",
    "        self.color = color\n",
    "    \n",
    "    #Date of birth method\n",
    "    # __init__ is only defined once in the start\n",
    "    \n",
    "    def year_born(self): #Passing in self, so that this method has the above attributes\n",
    "        return 2023 - self.age\n",
    "    \n",
    "    #Projected age\n",
    "    def projected_age(self, years=5):\n",
    "        return self.age + years\n",
    "    "
   ]
  },
  {
   "cell_type": "code",
   "execution_count": null,
   "id": "384b5904",
   "metadata": {},
   "outputs": [],
   "source": [
    "#Creating an object using the class, Person\n",
    "\n",
    "new_person = Person('Pratham', 31, 'Red')"
   ]
  },
  {
   "cell_type": "code",
   "execution_count": null,
   "id": "d963522e",
   "metadata": {},
   "outputs": [],
   "source": [
    "#Accessing a class attribute\n",
    "\n",
    "new_person.name"
   ]
  },
  {
   "cell_type": "code",
   "execution_count": null,
   "id": "5c4eeb2c",
   "metadata": {},
   "outputs": [],
   "source": [
    "#Running a method\n",
    "\n",
    "new_person.year_born()"
   ]
  },
  {
   "cell_type": "code",
   "execution_count": null,
   "id": "c629ac85",
   "metadata": {},
   "outputs": [],
   "source": [
    "#Run a method with a kwarg\n",
    "\n",
    "new_person.projected_age(years = 10)"
   ]
  },
  {
   "cell_type": "markdown",
   "id": "87c6126c",
   "metadata": {},
   "source": [
    "### - Inheritance"
   ]
  },
  {
   "cell_type": "markdown",
   "id": "b4517e13",
   "metadata": {},
   "source": [
    "- Parent Class - passes down the attributes and methods\n",
    "- Child Class - inherits the attributes and methods"
   ]
  },
  {
   "cell_type": "code",
   "execution_count": null,
   "id": "027a1285",
   "metadata": {},
   "outputs": [],
   "source": [
    "#Create a child class\n",
    "\n",
    "class Astronaut(Person): #passing Person into the Astronuat class\n",
    "    def __init__(self,name,age,color,mission_months):\n",
    "        super().__init__(name,age,color) #super method allows us to inherit the attributes from the parent class\n",
    "        self.mission_months = mission_months\n",
    "    \n",
    "    \n",
    "    def age_on_return(self):\n",
    "        return self.projected_age(years=int(self.mission_months/12))\n",
    "        \n",
    "    \n",
    "    "
   ]
  },
  {
   "cell_type": "code",
   "execution_count": null,
   "id": "564378da",
   "metadata": {},
   "outputs": [],
   "source": [
    "#Creating an object using the class, Astronaut\n",
    "\n",
    "new_astronaut = Astronaut('Rocky',1,'Brindle',12)"
   ]
  },
  {
   "cell_type": "code",
   "execution_count": null,
   "id": "67ac5286",
   "metadata": {},
   "outputs": [],
   "source": [
    "#Run a method with a kwarg\n",
    "\n",
    "new_astronaut.age_on_return()"
   ]
  },
  {
   "cell_type": "markdown",
   "id": "35274f0f",
   "metadata": {},
   "source": [
    "### - Modules"
   ]
  },
  {
   "cell_type": "code",
   "execution_count": null,
   "id": "6e950cd6",
   "metadata": {
    "scrolled": true
   },
   "outputs": [],
   "source": [
    "#Import launchcodes helper\n",
    "\n",
    "from helpers import launch_codes"
   ]
  },
  {
   "cell_type": "code",
   "execution_count": null,
   "id": "70afe9bd",
   "metadata": {},
   "outputs": [],
   "source": [
    "launch_codes()"
   ]
  },
  {
   "cell_type": "markdown",
   "id": "e7c8f36a",
   "metadata": {},
   "source": [
    "### - Packages"
   ]
  },
  {
   "cell_type": "code",
   "execution_count": null,
   "id": "877f6706",
   "metadata": {},
   "outputs": [],
   "source": [
    "#Install the requests package directly\n",
    "\n",
    "!pip install requests "
   ]
  },
  {
   "cell_type": "code",
   "execution_count": null,
   "id": "e629d701",
   "metadata": {},
   "outputs": [],
   "source": [
    "#How to view all the installed packages inside of the environment\n",
    "\n",
    "!pip list\n"
   ]
  },
  {
   "cell_type": "code",
   "execution_count": null,
   "id": "65996244",
   "metadata": {},
   "outputs": [],
   "source": [
    "#Import requests into the notebook\n",
    "\n",
    "import requests"
   ]
  },
  {
   "cell_type": "code",
   "execution_count": null,
   "id": "6cae2eab",
   "metadata": {},
   "outputs": [],
   "source": [
    "#Dad joke API endpoint\n",
    "\n",
    "joke_url = 'https://icanhazdadjoke.com'\n",
    "\n",
    "#ISS API endpoint\n",
    "iss_url = 'https://api.wheretheiss.at/v1/satellites/25544'"
   ]
  },
  {
   "cell_type": "code",
   "execution_count": null,
   "id": "ff5da863",
   "metadata": {},
   "outputs": [],
   "source": [
    "#A header is like metadata that we send during an API call\n",
    "\n",
    "my_header = {'Accept':'application/json'}\n",
    "\n",
    "#API call\n",
    "\n",
    "results = requests.get(joke_url, headers= my_header)\n",
    "\n",
    "json_result = results.json()\n",
    "\n",
    "#status: 200 indicates all went well, no errors\n",
    "json_result\n"
   ]
  },
  {
   "cell_type": "code",
   "execution_count": null,
   "id": "271135e3",
   "metadata": {},
   "outputs": [],
   "source": [
    "#Checking the type for the jSON file\n",
    "\n",
    "type(json_result)"
   ]
  },
  {
   "cell_type": "code",
   "execution_count": null,
   "id": "6d3b3504",
   "metadata": {
    "scrolled": true
   },
   "outputs": [],
   "source": [
    "#API call #2\n",
    "\n",
    "iss_results = requests.get(iss_url, headers= my_header)\n",
    "\n",
    "\n",
    "iss_results.json()"
   ]
  },
  {
   "cell_type": "markdown",
   "id": "866d4f86",
   "metadata": {},
   "source": [
    "### - Working with files"
   ]
  },
  {
   "cell_type": "code",
   "execution_count": null,
   "id": "75eb99a4",
   "metadata": {},
   "outputs": [],
   "source": [
    "#Write out our mission journal\n",
    "#w indicates its in write mode\n",
    "\n",
    "with open('mission_journal.txt','w') as f: #f is used to represent the journal\n",
    "    f.write(\"It's my first time in space. It's  so cool!\")\n",
    "    "
   ]
  },
  {
   "cell_type": "code",
   "execution_count": null,
   "id": "d37b492a",
   "metadata": {},
   "outputs": [],
   "source": [
    "#Read from our journal\n",
    "#r indicates its in read mode\n",
    "\n",
    "with open('mission_journal.txt','r') as f:\n",
    "    file = f.read()\n",
    "\n",
    "#Reading the file output\n",
    "print(file)"
   ]
  },
  {
   "cell_type": "markdown",
   "id": "d5227ffb",
   "metadata": {},
   "source": [
    "### - Error Handling"
   ]
  },
  {
   "cell_type": "code",
   "execution_count": null,
   "id": "6cbe2964",
   "metadata": {},
   "outputs": [],
   "source": [
    "#Create a set\n",
    "#Remember sets are immutable\n",
    "\n",
    "new_set = {1,2,3,4,5,6}"
   ]
  },
  {
   "cell_type": "code",
   "execution_count": null,
   "id": "eb936a0b",
   "metadata": {
    "scrolled": true
   },
   "outputs": [],
   "source": [
    "#Try something using the try keyword\n",
    "\n",
    "try:\n",
    "    #Run code that will cause an error\n",
    "    new_set[0] = 4\n",
    "#If error occurs, the below code will run\n",
    "except Exception as e:\n",
    "    print(e)\n",
    "    #Print out a custom error message\n",
    "    print(\"Something seems to be wrong!\")"
   ]
  },
  {
   "cell_type": "code",
   "execution_count": null,
   "id": "6a4c1552",
   "metadata": {},
   "outputs": [],
   "source": []
  }
 ],
 "metadata": {
  "kernelspec": {
   "display_name": "Python 3",
   "language": "python",
   "name": "python3"
  },
  "language_info": {
   "codemirror_mode": {
    "name": "ipython",
    "version": 3
   },
   "file_extension": ".py",
   "mimetype": "text/x-python",
   "name": "python",
   "nbconvert_exporter": "python",
   "pygments_lexer": "ipython3",
   "version": "3.8.8"
  }
 },
 "nbformat": 4,
 "nbformat_minor": 5
}
